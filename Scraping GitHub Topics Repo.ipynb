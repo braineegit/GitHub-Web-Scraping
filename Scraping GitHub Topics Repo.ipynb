{
 "cells": [
  {
   "cell_type": "markdown",
   "id": "ae923491",
   "metadata": {},
   "source": [
    " # Top Repo For GitHub Topics\n"
   ]
  },
  {
   "cell_type": "code",
   "execution_count": null,
   "id": "99959d1a",
   "metadata": {},
   "outputs": [],
   "source": []
  },
  {
   "cell_type": "markdown",
   "id": "5f33ed17",
   "metadata": {},
   "source": [
    "## 1. Pick a website and describe your objective\n",
    "\n",
    "- Browse through different sites and pick on to scrape. Check the \"Project Ideas\" section for inspiration.\n",
    "- Identify the information you'd like to scrape from the site. Decide the format of the output CSV file.\n",
    "- Summarize your project idea and outline your strategy in a Juptyer notebook. Use the \"New\" button above."
   ]
  },
  {
   "cell_type": "markdown",
   "id": "4af2fa0c",
   "metadata": {},
   "source": [
    "### Project Outline\n",
    "\n",
    "- We're going to scrape https://github.com/topics\n",
    "- We'll get a list of topics. For each topic, we'll get topic title, topic page URL and topic description\n",
    "- For each topic, we'll get the top 25 repositories in the topic from the topic page\n",
    "- For each repository, we'll grab the repo name, username, stars and repo URL\n",
    "- For each topic we'll create a CSV file in the following format:\n",
    "\n",
    "Repo Name, User Name, Stars, Repo URL\n",
    "\n",
    "three.js, mrdoob, 95000, https://github.com/mrdoob/three.js\n",
    "\n",
    "react-three-fiber, pmndrs, 24100, https://github.com/pmndrs/react-three-fiber\n"
   ]
  },
  {
   "cell_type": "markdown",
   "id": "6581fa0a",
   "metadata": {},
   "source": [
    "### Use The Request Library To Download Web Pages"
   ]
  },
  {
   "cell_type": "code",
   "execution_count": 1,
   "id": "3500defb",
   "metadata": {
    "scrolled": true
   },
   "outputs": [],
   "source": [
    "!pip install requests --upgrade --quiet"
   ]
  },
  {
   "cell_type": "code",
   "execution_count": 2,
   "id": "a6552db1",
   "metadata": {},
   "outputs": [],
   "source": [
    "import requests"
   ]
  },
  {
   "cell_type": "code",
   "execution_count": 3,
   "id": "7c815ce2",
   "metadata": {},
   "outputs": [],
   "source": [
    "# get the web page\n",
    "topics_url = 'https://github.com/topics'"
   ]
  },
  {
   "cell_type": "code",
   "execution_count": 4,
   "id": "6c6ed11b",
   "metadata": {},
   "outputs": [],
   "source": [
    "# download this url\n",
    "response = requests.get(topics_url)"
   ]
  },
  {
   "cell_type": "code",
   "execution_count": 5,
   "id": "41f0421b",
   "metadata": {},
   "outputs": [
    {
     "data": {
      "text/plain": [
       "200"
      ]
     },
     "execution_count": 5,
     "metadata": {},
     "output_type": "execute_result"
    }
   ],
   "source": [
    "response.status_code\n",
    "\n",
    "# Informational responses (100 – 199)\n",
    "# Successful responses (200 – 299)\n",
    "# Redirection messages (300 – 399)\n",
    "# Client error responses (400 – 499)\n",
    "# Server error responses (500 – 599)"
   ]
  },
  {
   "cell_type": "code",
   "execution_count": 6,
   "id": "9d911f9b",
   "metadata": {
    "scrolled": true
   },
   "outputs": [
    {
     "data": {
      "text/plain": [
       "'\\n\\n<!DOCTYPE html>\\n<html lang=\"en\" data-color-mode=\"auto\" data-light-theme=\"light\" data-dark-theme=\"dark\"  data-a11y-animated-images=\"system\" data-a11y-link-underlines=\"true\">\\n\\n\\n  <head>\\n    <meta charset=\"utf-8\">\\n  <link rel=\"dns-prefetch\" href=\"https://github.githubassets.com\">\\n  <link rel=\"dns-prefetch\" href=\"https://avatars.githubusercontent.com\">\\n  <link rel=\"dns-prefetch\" href=\"https://github-cloud.s3.amazonaws.com\">\\n  <link rel=\"dns-prefetch\" href=\"https://user-images.githubusercontent.com/\">\\n  <link rel=\"preconnect\" href=\"https://github.githubassets.com\" crossorigin>\\n  <link rel=\"preconnect\" href=\"https://avatars.githubusercontent.com\">\\n\\n  \\n\\n  <link crossorigin=\"anonymous\" media=\"all\" rel=\"stylesheet\" href=\"https://github.githubassets.com/assets/light-b92e9647318f.css\" /><link crossorigin=\"anonymous\" media=\"all\" rel=\"stylesheet\" href=\"https://github.githubassets.com/assets/dark-5d486a4ede8e.css\" /><link data-color-theme=\"dark_dimmed\" crossorigin=\"anonymous\" media=\"all\" rel=\"styl'"
      ]
     },
     "execution_count": 6,
     "metadata": {},
     "output_type": "execute_result"
    }
   ],
   "source": [
    "# first 1000 contemt of webpage\n",
    "\n",
    "page_contents = response.text\n",
    "page_contents[:1000]"
   ]
  },
  {
   "cell_type": "code",
   "execution_count": 7,
   "id": "4b990b0f",
   "metadata": {},
   "outputs": [],
   "source": [
    "# save this in html\n",
    "\n",
    "with open('webpage.html', 'w', encoding=\"utf-8\") as f:\n",
    "    f.write(page_contents)"
   ]
  },
  {
   "cell_type": "markdown",
   "id": "6f0bf576",
   "metadata": {},
   "source": [
    "*In the above saved page, we have all the contents of the original page that are List Of Topics, Repo Name, User Name, Stars, Repo URL"
   ]
  },
  {
   "cell_type": "code",
   "execution_count": null,
   "id": "2c4befca",
   "metadata": {},
   "outputs": [],
   "source": []
  },
  {
   "cell_type": "markdown",
   "id": "7223a659",
   "metadata": {},
   "source": [
    "### Use BeautifulSoup To Parse And Extract Info"
   ]
  },
  {
   "cell_type": "code",
   "execution_count": 8,
   "id": "0a69bf37",
   "metadata": {},
   "outputs": [],
   "source": [
    "!pip install beautifulsoup4 --upgrade --quiet "
   ]
  },
  {
   "cell_type": "code",
   "execution_count": 9,
   "id": "5fb4888c",
   "metadata": {},
   "outputs": [],
   "source": [
    "from bs4 import BeautifulSoup"
   ]
  },
  {
   "cell_type": "code",
   "execution_count": 10,
   "id": "e9ff4750",
   "metadata": {},
   "outputs": [],
   "source": [
    "# html code parsing\n",
    "\n",
    "doc = BeautifulSoup(page_contents, 'html.parser')"
   ]
  },
  {
   "cell_type": "code",
   "execution_count": 11,
   "id": "9bdecf46",
   "metadata": {},
   "outputs": [
    {
     "data": {
      "text/plain": [
       "bs4.BeautifulSoup"
      ]
     },
     "execution_count": 11,
     "metadata": {},
     "output_type": "execute_result"
    }
   ],
   "source": [
    "type(doc)"
   ]
  },
  {
   "cell_type": "markdown",
   "id": "63dc58e5",
   "metadata": {},
   "source": [
    "#### Topic Title"
   ]
  },
  {
   "cell_type": "code",
   "execution_count": 12,
   "id": "1348c16e",
   "metadata": {},
   "outputs": [],
   "source": [
    "# finding tags and class in html corresponding to '3D' Topic in the doc. Here 3D is in p tag\n",
    "\n",
    "selection_class = \"f3 lh-condensed mb-0 mt-1 Link--primary\"\n",
    "\n",
    "topic_title_tags = doc.find_all('p', {'class' : selection_class})"
   ]
  },
  {
   "cell_type": "code",
   "execution_count": 13,
   "id": "9d7378ac",
   "metadata": {},
   "outputs": [
    {
     "data": {
      "text/plain": [
       "30"
      ]
     },
     "execution_count": 13,
     "metadata": {},
     "output_type": "execute_result"
    }
   ],
   "source": [
    "len(topic_title_tags)"
   ]
  },
  {
   "cell_type": "code",
   "execution_count": 14,
   "id": "215cf404",
   "metadata": {},
   "outputs": [
    {
     "data": {
      "text/plain": [
       "[<p class=\"f3 lh-condensed mb-0 mt-1 Link--primary\">3D</p>,\n",
       " <p class=\"f3 lh-condensed mb-0 mt-1 Link--primary\">Ajax</p>,\n",
       " <p class=\"f3 lh-condensed mb-0 mt-1 Link--primary\">Algorithm</p>,\n",
       " <p class=\"f3 lh-condensed mb-0 mt-1 Link--primary\">Amp</p>,\n",
       " <p class=\"f3 lh-condensed mb-0 mt-1 Link--primary\">Android</p>]"
      ]
     },
     "execution_count": 14,
     "metadata": {},
     "output_type": "execute_result"
    }
   ],
   "source": [
    "topic_title_tags[:5]"
   ]
  },
  {
   "cell_type": "markdown",
   "id": "3acdb2dd",
   "metadata": {},
   "source": [
    "#### Description Of Topic"
   ]
  },
  {
   "cell_type": "code",
   "execution_count": 15,
   "id": "2da61ad6",
   "metadata": {},
   "outputs": [],
   "source": [
    "desc_selector = \"f5 color-fg-muted mb-0 mt-1\"\n",
    "\n",
    "topic_desc_tags = doc.find_all('p', {'class' : desc_selector})"
   ]
  },
  {
   "cell_type": "code",
   "execution_count": 16,
   "id": "66061ff6",
   "metadata": {},
   "outputs": [
    {
     "data": {
      "text/plain": [
       "[<p class=\"f5 color-fg-muted mb-0 mt-1\">\n",
       "           3D refers to the use of three-dimensional graphics, modeling, and animation in various industries.\n",
       "         </p>,\n",
       " <p class=\"f5 color-fg-muted mb-0 mt-1\">\n",
       "           Ajax is a technique for creating interactive web applications.\n",
       "         </p>,\n",
       " <p class=\"f5 color-fg-muted mb-0 mt-1\">\n",
       "           Algorithms are self-contained sequences that carry out a variety of tasks.\n",
       "         </p>,\n",
       " <p class=\"f5 color-fg-muted mb-0 mt-1\">\n",
       "           Amp is a non-blocking concurrency library for PHP.\n",
       "         </p>,\n",
       " <p class=\"f5 color-fg-muted mb-0 mt-1\">\n",
       "           Android is an operating system built by Google designed for mobile devices.\n",
       "         </p>]"
      ]
     },
     "execution_count": 16,
     "metadata": {},
     "output_type": "execute_result"
    }
   ],
   "source": [
    "topic_desc_tags[:5]"
   ]
  },
  {
   "cell_type": "markdown",
   "id": "120742ed",
   "metadata": {},
   "source": [
    "#### Topic URL"
   ]
  },
  {
   "cell_type": "code",
   "execution_count": 17,
   "id": "841e94e1",
   "metadata": {},
   "outputs": [
    {
     "data": {
      "text/plain": [
       "<p class=\"f3 lh-condensed mb-0 mt-1 Link--primary\">3D</p>"
      ]
     },
     "execution_count": 17,
     "metadata": {},
     "output_type": "execute_result"
    }
   ],
   "source": [
    "topic_title_tag0 = topic_title_tags[0]\n",
    "\n",
    "topic_title_tag0"
   ]
  },
  {
   "cell_type": "code",
   "execution_count": 18,
   "id": "58c20dac",
   "metadata": {},
   "outputs": [
    {
     "data": {
      "text/plain": [
       "<a class=\"no-underline flex-1 d-flex flex-column\" href=\"/topics/3d\">\n",
       "<p class=\"f3 lh-condensed mb-0 mt-1 Link--primary\">3D</p>\n",
       "<p class=\"f5 color-fg-muted mb-0 mt-1\">\n",
       "          3D refers to the use of three-dimensional graphics, modeling, and animation in various industries.\n",
       "        </p>\n",
       "</a>"
      ]
     },
     "execution_count": 18,
     "metadata": {},
     "output_type": "execute_result"
    }
   ],
   "source": [
    "# parent tag of p tags for 3D\n",
    "\n",
    "topic_link_tag = topic_title_tag0.parent\n",
    "\n",
    "topic_link_tag"
   ]
  },
  {
   "cell_type": "markdown",
   "id": "74ec6eb2",
   "metadata": {},
   "source": [
    "*This means, our p tag (containing title 3D) is inside a tag (containing href of title 3d, i.e., URL of Title)"
   ]
  },
  {
   "cell_type": "code",
   "execution_count": 19,
   "id": "d796fbab",
   "metadata": {},
   "outputs": [
    {
     "name": "stdout",
     "output_type": "stream",
     "text": [
      "https://github.com/topics/3d\n"
     ]
    }
   ],
   "source": [
    "# print topic url\n",
    "\n",
    "topic0_url = \"https://github.com\" + topic_link_tag['href']\n",
    "\n",
    "print(topic0_url)"
   ]
  },
  {
   "cell_type": "code",
   "execution_count": null,
   "id": "d5a87c06",
   "metadata": {},
   "outputs": [],
   "source": []
  },
  {
   "cell_type": "code",
   "execution_count": 20,
   "id": "1da73c1b",
   "metadata": {},
   "outputs": [],
   "source": [
    "# Parent tag for p tags for all Title \n",
    "\n",
    "url_selector = \"no-underline flex-1 d-flex flex-column\"\n",
    "\n",
    "topic_link_tags = doc.find_all('a', {'class': url_selector})"
   ]
  },
  {
   "cell_type": "code",
   "execution_count": 21,
   "id": "3743a438",
   "metadata": {},
   "outputs": [
    {
     "data": {
      "text/plain": [
       "30"
      ]
     },
     "execution_count": 21,
     "metadata": {},
     "output_type": "execute_result"
    }
   ],
   "source": [
    "len(topic_link_tags)"
   ]
  },
  {
   "cell_type": "code",
   "execution_count": 22,
   "id": "7bd293ab",
   "metadata": {},
   "outputs": [
    {
     "data": {
      "text/plain": [
       "'/topics/3d'"
      ]
     },
     "execution_count": 22,
     "metadata": {},
     "output_type": "execute_result"
    }
   ],
   "source": [
    "topic_link_tags[0]['href']"
   ]
  },
  {
   "cell_type": "code",
   "execution_count": 23,
   "id": "edc6ee3f",
   "metadata": {},
   "outputs": [
    {
     "name": "stdout",
     "output_type": "stream",
     "text": [
      "https://github.com/topics/3d\n"
     ]
    }
   ],
   "source": [
    "topic0_url = \"https://github.com\" + topic_link_tags[0]['href']\n",
    "\n",
    "print(topic0_url)"
   ]
  },
  {
   "cell_type": "markdown",
   "id": "23ea6806",
   "metadata": {},
   "source": [
    "#### Getting Topic Name, Description And Topic URL"
   ]
  },
  {
   "cell_type": "code",
   "execution_count": 24,
   "id": "274e4417",
   "metadata": {},
   "outputs": [
    {
     "name": "stdout",
     "output_type": "stream",
     "text": [
      "['3D', 'Ajax', 'Algorithm', 'Amp', 'Android', 'Angular', 'Ansible', 'API', 'Arduino', 'ASP.NET', 'Atom', 'Awesome Lists', 'Amazon Web Services', 'Azure', 'Babel', 'Bash', 'Bitcoin', 'Bootstrap', 'Bot', 'C', 'Chrome', 'Chrome extension', 'Command line interface', 'Clojure', 'Code quality', 'Code review', 'Compiler', 'Continuous integration', 'COVID-19', 'C++']\n"
     ]
    }
   ],
   "source": [
    "topic_titles = []\n",
    "\n",
    "for tag in topic_title_tags:\n",
    "    topic_titles.append(tag.text)\n",
    "\n",
    "print(topic_titles)"
   ]
  },
  {
   "cell_type": "code",
   "execution_count": null,
   "id": "3575e11e",
   "metadata": {},
   "outputs": [],
   "source": []
  },
  {
   "cell_type": "code",
   "execution_count": 59,
   "id": "df7fec88",
   "metadata": {},
   "outputs": [
    {
     "data": {
      "text/plain": [
       "['3D refers to the use of three-dimensional graphics, modeling, and animation in various industries.',\n",
       " 'Ajax is a technique for creating interactive web applications.',\n",
       " 'Algorithms are self-contained sequences that carry out a variety of tasks.',\n",
       " 'Amp is a non-blocking concurrency library for PHP.',\n",
       " 'Android is an operating system built by Google designed for mobile devices.']"
      ]
     },
     "execution_count": 59,
     "metadata": {},
     "output_type": "execute_result"
    }
   ],
   "source": [
    "topic_descs = []\n",
    "\n",
    "for tag in topic_desc_tags:\n",
    "    topic_descs.append(tag.text.strip())\n",
    "\n",
    "topic_descs[:5]"
   ]
  },
  {
   "cell_type": "code",
   "execution_count": null,
   "id": "ee7a1740",
   "metadata": {},
   "outputs": [],
   "source": []
  },
  {
   "cell_type": "code",
   "execution_count": 26,
   "id": "d727880c",
   "metadata": {},
   "outputs": [
    {
     "data": {
      "text/plain": [
       "['https://github.com/topics/3d',\n",
       " 'https://github.com/topics/ajax',\n",
       " 'https://github.com/topics/algorithm',\n",
       " 'https://github.com/topics/amphp',\n",
       " 'https://github.com/topics/android']"
      ]
     },
     "execution_count": 26,
     "metadata": {},
     "output_type": "execute_result"
    }
   ],
   "source": [
    "topic_urls = []\n",
    "\n",
    "base_url = \"https://github.com\"\n",
    "\n",
    "for tag in topic_link_tags:\n",
    "    topic_urls.append(base_url + tag['href'])\n",
    "    \n",
    "topic_urls[:5]"
   ]
  },
  {
   "cell_type": "code",
   "execution_count": null,
   "id": "e5f94ce1",
   "metadata": {},
   "outputs": [],
   "source": []
  },
  {
   "cell_type": "markdown",
   "id": "4d6f6374",
   "metadata": {},
   "source": [
    "### Creating Dataframe"
   ]
  },
  {
   "cell_type": "code",
   "execution_count": 27,
   "id": "b7ce6be9",
   "metadata": {},
   "outputs": [],
   "source": [
    "import pandas as pd"
   ]
  },
  {
   "cell_type": "code",
   "execution_count": null,
   "id": "804522c0",
   "metadata": {},
   "outputs": [],
   "source": []
  },
  {
   "cell_type": "code",
   "execution_count": 28,
   "id": "19f99863",
   "metadata": {},
   "outputs": [],
   "source": [
    "topics_df = pd.DataFrame"
   ]
  },
  {
   "cell_type": "code",
   "execution_count": 29,
   "id": "3eac3d84",
   "metadata": {},
   "outputs": [],
   "source": [
    "topics_dict = {\n",
    "    'title' : topic_titles,\n",
    "    'description' : topic_desc,\n",
    "    'url' : topic_urls\n",
    "}"
   ]
  },
  {
   "cell_type": "code",
   "execution_count": 30,
   "id": "47b8b137",
   "metadata": {},
   "outputs": [
    {
     "data": {
      "text/html": [
       "<div>\n",
       "<style scoped>\n",
       "    .dataframe tbody tr th:only-of-type {\n",
       "        vertical-align: middle;\n",
       "    }\n",
       "\n",
       "    .dataframe tbody tr th {\n",
       "        vertical-align: top;\n",
       "    }\n",
       "\n",
       "    .dataframe thead th {\n",
       "        text-align: right;\n",
       "    }\n",
       "</style>\n",
       "<table border=\"1\" class=\"dataframe\">\n",
       "  <thead>\n",
       "    <tr style=\"text-align: right;\">\n",
       "      <th></th>\n",
       "      <th>title</th>\n",
       "      <th>description</th>\n",
       "      <th>url</th>\n",
       "    </tr>\n",
       "  </thead>\n",
       "  <tbody>\n",
       "    <tr>\n",
       "      <th>0</th>\n",
       "      <td>3D</td>\n",
       "      <td>3D refers to the use of three-dimensional grap...</td>\n",
       "      <td>https://github.com/topics/3d</td>\n",
       "    </tr>\n",
       "    <tr>\n",
       "      <th>1</th>\n",
       "      <td>Ajax</td>\n",
       "      <td>Ajax is a technique for creating interactive w...</td>\n",
       "      <td>https://github.com/topics/ajax</td>\n",
       "    </tr>\n",
       "    <tr>\n",
       "      <th>2</th>\n",
       "      <td>Algorithm</td>\n",
       "      <td>Algorithms are self-contained sequences that c...</td>\n",
       "      <td>https://github.com/topics/algorithm</td>\n",
       "    </tr>\n",
       "    <tr>\n",
       "      <th>3</th>\n",
       "      <td>Amp</td>\n",
       "      <td>Amp is a non-blocking concurrency library for ...</td>\n",
       "      <td>https://github.com/topics/amphp</td>\n",
       "    </tr>\n",
       "    <tr>\n",
       "      <th>4</th>\n",
       "      <td>Android</td>\n",
       "      <td>Android is an operating system built by Google...</td>\n",
       "      <td>https://github.com/topics/android</td>\n",
       "    </tr>\n",
       "  </tbody>\n",
       "</table>\n",
       "</div>"
      ],
      "text/plain": [
       "       title                                        description  \\\n",
       "0         3D  3D refers to the use of three-dimensional grap...   \n",
       "1       Ajax  Ajax is a technique for creating interactive w...   \n",
       "2  Algorithm  Algorithms are self-contained sequences that c...   \n",
       "3        Amp  Amp is a non-blocking concurrency library for ...   \n",
       "4    Android  Android is an operating system built by Google...   \n",
       "\n",
       "                                   url  \n",
       "0         https://github.com/topics/3d  \n",
       "1       https://github.com/topics/ajax  \n",
       "2  https://github.com/topics/algorithm  \n",
       "3      https://github.com/topics/amphp  \n",
       "4    https://github.com/topics/android  "
      ]
     },
     "execution_count": 30,
     "metadata": {},
     "output_type": "execute_result"
    }
   ],
   "source": [
    "topics_df = pd.DataFrame(topics_dict)\n",
    "\n",
    "topics_df[:5]"
   ]
  },
  {
   "cell_type": "code",
   "execution_count": null,
   "id": "c591acf9",
   "metadata": {},
   "outputs": [],
   "source": []
  },
  {
   "cell_type": "markdown",
   "id": "9164009e",
   "metadata": {},
   "source": [
    "### Create CSV With The Extracted Info"
   ]
  },
  {
   "cell_type": "code",
   "execution_count": 31,
   "id": "45944e8f",
   "metadata": {},
   "outputs": [],
   "source": [
    "topics_df.to_csv('topics.csv', index=None)"
   ]
  },
  {
   "cell_type": "code",
   "execution_count": null,
   "id": "e6104b5d",
   "metadata": {},
   "outputs": [],
   "source": []
  },
  {
   "cell_type": "markdown",
   "id": "810681cc",
   "metadata": {},
   "source": [
    "### Getting Info Out Of A Topic Page"
   ]
  },
  {
   "cell_type": "code",
   "execution_count": 32,
   "id": "793b44c1",
   "metadata": {},
   "outputs": [
    {
     "name": "stdout",
     "output_type": "stream",
     "text": [
      "https://github.com/topics/3d\n"
     ]
    }
   ],
   "source": [
    "topic_page_url = topic_urls[0]\n",
    "\n",
    "print(topic_page_url)"
   ]
  },
  {
   "cell_type": "code",
   "execution_count": 33,
   "id": "c2041901",
   "metadata": {},
   "outputs": [],
   "source": [
    "response = requests.get(topic_page_url)"
   ]
  },
  {
   "cell_type": "code",
   "execution_count": 34,
   "id": "cab72303",
   "metadata": {},
   "outputs": [
    {
     "data": {
      "text/plain": [
       "200"
      ]
     },
     "execution_count": 34,
     "metadata": {},
     "output_type": "execute_result"
    }
   ],
   "source": [
    "response.status_code"
   ]
  },
  {
   "cell_type": "code",
   "execution_count": 35,
   "id": "d68b6c40",
   "metadata": {},
   "outputs": [
    {
     "data": {
      "text/plain": [
       "483998"
      ]
     },
     "execution_count": 35,
     "metadata": {},
     "output_type": "execute_result"
    }
   ],
   "source": [
    "len(response.text)"
   ]
  },
  {
   "cell_type": "code",
   "execution_count": 36,
   "id": "4b8e2785",
   "metadata": {},
   "outputs": [],
   "source": [
    "topic_doc = BeautifulSoup(response.text, 'html.parser')"
   ]
  },
  {
   "cell_type": "code",
   "execution_count": 37,
   "id": "01f71723",
   "metadata": {},
   "outputs": [],
   "source": [
    "h3_selection_class = \"f3 color-fg-muted text-normal lh-condensed\"\n",
    "\n",
    "repo_tags = topic_doc('h3', {'class': h3_selection_class})\n",
    "\n",
    "# repo_tags include Repo Name, User Name and Repo URL"
   ]
  },
  {
   "cell_type": "code",
   "execution_count": 38,
   "id": "97a86e24",
   "metadata": {},
   "outputs": [
    {
     "data": {
      "text/plain": [
       "20"
      ]
     },
     "execution_count": 38,
     "metadata": {},
     "output_type": "execute_result"
    }
   ],
   "source": [
    "len(repo_tags)"
   ]
  },
  {
   "cell_type": "code",
   "execution_count": 39,
   "id": "08b8b879",
   "metadata": {},
   "outputs": [
    {
     "data": {
      "text/plain": [
       "[<a class=\"Link\" data-hydro-click='{\"event_type\":\"explore.click\",\"payload\":{\"click_context\":\"REPOSITORY_CARD\",\"click_target\":\"OWNER\",\"click_visual_representation\":\"REPOSITORY_OWNER_HEADING\",\"actor_id\":null,\"record_id\":97088,\"originating_url\":\"https://github.com/topics/3d\",\"user_id\":null}}' data-hydro-click-hmac=\"4bdbc49d3c05ae7f70b531fbce709a384200b0768554e0172950286a8db30940\" data-turbo=\"false\" data-view-component=\"true\" href=\"/mrdoob\">\n",
       "             mrdoob\n",
       " </a>,\n",
       " <a class=\"Link text-bold wb-break-word\" data-hydro-click='{\"event_type\":\"explore.click\",\"payload\":{\"click_context\":\"REPOSITORY_CARD\",\"click_target\":\"REPOSITORY\",\"click_visual_representation\":\"REPOSITORY_NAME_HEADING\",\"actor_id\":null,\"record_id\":576201,\"originating_url\":\"https://github.com/topics/3d\",\"user_id\":null}}' data-hydro-click-hmac=\"517d3d5cb9d89752156923904a4238816bc9b51ab7772f3e3644ce897d8dd4e5\" data-turbo=\"false\" data-view-component=\"true\" href=\"/mrdoob/three.js\">\n",
       "             three.js\n",
       " </a>]"
      ]
     },
     "execution_count": 39,
     "metadata": {},
     "output_type": "execute_result"
    }
   ],
   "source": [
    "a_tags = repo_tags[0].find_all('a')\n",
    "\n",
    "a_tags"
   ]
  },
  {
   "cell_type": "code",
   "execution_count": 40,
   "id": "2357188b",
   "metadata": {},
   "outputs": [
    {
     "data": {
      "text/plain": [
       "<a class=\"Link\" data-hydro-click='{\"event_type\":\"explore.click\",\"payload\":{\"click_context\":\"REPOSITORY_CARD\",\"click_target\":\"OWNER\",\"click_visual_representation\":\"REPOSITORY_OWNER_HEADING\",\"actor_id\":null,\"record_id\":97088,\"originating_url\":\"https://github.com/topics/3d\",\"user_id\":null}}' data-hydro-click-hmac=\"4bdbc49d3c05ae7f70b531fbce709a384200b0768554e0172950286a8db30940\" data-turbo=\"false\" data-view-component=\"true\" href=\"/mrdoob\">\n",
       "            mrdoob\n",
       "</a>"
      ]
     },
     "execution_count": 40,
     "metadata": {},
     "output_type": "execute_result"
    }
   ],
   "source": [
    "# User Name\n",
    "\n",
    "a_tags[0]"
   ]
  },
  {
   "cell_type": "code",
   "execution_count": 41,
   "id": "43a295ec",
   "metadata": {},
   "outputs": [
    {
     "data": {
      "text/plain": [
       "<a class=\"Link text-bold wb-break-word\" data-hydro-click='{\"event_type\":\"explore.click\",\"payload\":{\"click_context\":\"REPOSITORY_CARD\",\"click_target\":\"REPOSITORY\",\"click_visual_representation\":\"REPOSITORY_NAME_HEADING\",\"actor_id\":null,\"record_id\":576201,\"originating_url\":\"https://github.com/topics/3d\",\"user_id\":null}}' data-hydro-click-hmac=\"517d3d5cb9d89752156923904a4238816bc9b51ab7772f3e3644ce897d8dd4e5\" data-turbo=\"false\" data-view-component=\"true\" href=\"/mrdoob/three.js\">\n",
       "            three.js\n",
       "</a>"
      ]
     },
     "execution_count": 41,
     "metadata": {},
     "output_type": "execute_result"
    }
   ],
   "source": [
    "# Repo Name\n",
    "\n",
    "a_tags[1]"
   ]
  },
  {
   "cell_type": "markdown",
   "id": "f3b170b7",
   "metadata": {},
   "source": [
    "#### User Name and Repo Name"
   ]
  },
  {
   "cell_type": "code",
   "execution_count": 42,
   "id": "ecf740c5",
   "metadata": {},
   "outputs": [
    {
     "data": {
      "text/plain": [
       "'mrdoob'"
      ]
     },
     "execution_count": 42,
     "metadata": {},
     "output_type": "execute_result"
    }
   ],
   "source": [
    "a_tags[0].text.strip()"
   ]
  },
  {
   "cell_type": "code",
   "execution_count": 43,
   "id": "03f20b7a",
   "metadata": {},
   "outputs": [
    {
     "data": {
      "text/plain": [
       "'three.js'"
      ]
     },
     "execution_count": 43,
     "metadata": {},
     "output_type": "execute_result"
    }
   ],
   "source": [
    "a_tags[1].text.strip()"
   ]
  },
  {
   "cell_type": "markdown",
   "id": "c9882308",
   "metadata": {},
   "source": [
    "#### Repo URL"
   ]
  },
  {
   "cell_type": "code",
   "execution_count": 44,
   "id": "a87dec08",
   "metadata": {},
   "outputs": [
    {
     "name": "stdout",
     "output_type": "stream",
     "text": [
      "https://github.com/mrdoob/three.js\n"
     ]
    }
   ],
   "source": [
    "repo_url = base_url + a_tags[1]['href']\n",
    "\n",
    "print(repo_url)"
   ]
  },
  {
   "cell_type": "markdown",
   "id": "3ec845f2",
   "metadata": {},
   "source": [
    "#### Stars"
   ]
  },
  {
   "cell_type": "code",
   "execution_count": 45,
   "id": "4e2146be",
   "metadata": {},
   "outputs": [],
   "source": [
    "star_tags = topic_doc.find_all('span', {'class' : 'Counter js-social-count'})"
   ]
  },
  {
   "cell_type": "code",
   "execution_count": 46,
   "id": "feaa889c",
   "metadata": {},
   "outputs": [
    {
     "data": {
      "text/plain": [
       "20"
      ]
     },
     "execution_count": 46,
     "metadata": {},
     "output_type": "execute_result"
    }
   ],
   "source": [
    "len(star_tags)"
   ]
  },
  {
   "cell_type": "code",
   "execution_count": 47,
   "id": "da2e1db8",
   "metadata": {},
   "outputs": [
    {
     "data": {
      "text/plain": [
       "'95.2k'"
      ]
     },
     "execution_count": 47,
     "metadata": {},
     "output_type": "execute_result"
    }
   ],
   "source": [
    "star_tags[0].text.strip()"
   ]
  },
  {
   "cell_type": "code",
   "execution_count": 48,
   "id": "41812ba3",
   "metadata": {},
   "outputs": [
    {
     "data": {
      "text/plain": [
       "95200"
      ]
     },
     "execution_count": 48,
     "metadata": {},
     "output_type": "execute_result"
    }
   ],
   "source": [
    "# converting into number\n",
    "\n",
    "def parse_star_count(stars_str):\n",
    "    stars_str = stars_str.strip()\n",
    "    if stars_str[-1] == 'k':\n",
    "        return int(float(stars_str[:-1]) * 1000)\n",
    "    return int(stars_str)\n",
    "\n",
    "parse_star_count(star_tags[0].text.strip())"
   ]
  },
  {
   "cell_type": "code",
   "execution_count": null,
   "id": "679cf189",
   "metadata": {},
   "outputs": [],
   "source": []
  },
  {
   "cell_type": "code",
   "execution_count": 49,
   "id": "ba43b584",
   "metadata": {},
   "outputs": [
    {
     "data": {
      "text/plain": [
       "('mrdoob', 'three.js', 95200, 'https://github.com/mrdoob/three.js')"
      ]
     },
     "execution_count": 49,
     "metadata": {},
     "output_type": "execute_result"
    }
   ],
   "source": [
    "def get_repo_info(h3_tag, star_tag):\n",
    "    \n",
    "    # returns all the reqd info about a repository\n",
    "    \n",
    "    a_tags = h3_tag.find_all('a')\n",
    "    username = a_tags[0].text.strip()\n",
    "    repo_name = a_tags[1].text.strip()\n",
    "    repo_url = base_url + a_tags[1]['href']\n",
    "    stars = parse_star_count(star_tag.text.strip())\n",
    "    \n",
    "    return username, repo_name, stars, repo_url\n",
    "\n",
    "get_repo_info(repo_tags[0], star_tags[0])"
   ]
  },
  {
   "cell_type": "code",
   "execution_count": null,
   "id": "11bc1fc8",
   "metadata": {},
   "outputs": [],
   "source": []
  },
  {
   "cell_type": "code",
   "execution_count": 50,
   "id": "92710219",
   "metadata": {},
   "outputs": [
    {
     "data": {
      "text/plain": [
       "{'username': ['mrdoob',\n",
       "  'pmndrs',\n",
       "  'libgdx',\n",
       "  'BabylonJS',\n",
       "  'ssloy',\n",
       "  'lettier',\n",
       "  'aframevr',\n",
       "  'FreeCAD',\n",
       "  'CesiumGS',\n",
       "  'MonoGame',\n",
       "  'metafizzy',\n",
       "  'blender',\n",
       "  'isl-org',\n",
       "  'timzhang642',\n",
       "  'a1studmuffin',\n",
       "  'nerfstudio-project',\n",
       "  'domlysz',\n",
       "  'FyroxEngine',\n",
       "  'google',\n",
       "  'openscad'],\n",
       " 'repo_name': ['three.js',\n",
       "  'react-three-fiber',\n",
       "  'libgdx',\n",
       "  'Babylon.js',\n",
       "  'tinyrenderer',\n",
       "  '3d-game-shaders-for-beginners',\n",
       "  'aframe',\n",
       "  'FreeCAD',\n",
       "  'cesium',\n",
       "  'MonoGame',\n",
       "  'zdog',\n",
       "  'blender',\n",
       "  'Open3D',\n",
       "  '3D-Machine-Learning',\n",
       "  'SpaceshipGenerator',\n",
       "  'nerfstudio',\n",
       "  'BlenderGIS',\n",
       "  'Fyrox',\n",
       "  'model-viewer',\n",
       "  'openscad'],\n",
       " 'stars': [95200,\n",
       "  24100,\n",
       "  22100,\n",
       "  21500,\n",
       "  18100,\n",
       "  16200,\n",
       "  15700,\n",
       "  15500,\n",
       "  11100,\n",
       "  10200,\n",
       "  10000,\n",
       "  9800,\n",
       "  9600,\n",
       "  9200,\n",
       "  7500,\n",
       "  6900,\n",
       "  6800,\n",
       "  6700,\n",
       "  6100,\n",
       "  6000],\n",
       " 'repo_url': ['https://github.com/mrdoob/three.js',\n",
       "  'https://github.com/pmndrs/react-three-fiber',\n",
       "  'https://github.com/libgdx/libgdx',\n",
       "  'https://github.com/BabylonJS/Babylon.js',\n",
       "  'https://github.com/ssloy/tinyrenderer',\n",
       "  'https://github.com/lettier/3d-game-shaders-for-beginners',\n",
       "  'https://github.com/aframevr/aframe',\n",
       "  'https://github.com/FreeCAD/FreeCAD',\n",
       "  'https://github.com/CesiumGS/cesium',\n",
       "  'https://github.com/MonoGame/MonoGame',\n",
       "  'https://github.com/metafizzy/zdog',\n",
       "  'https://github.com/blender/blender',\n",
       "  'https://github.com/isl-org/Open3D',\n",
       "  'https://github.com/timzhang642/3D-Machine-Learning',\n",
       "  'https://github.com/a1studmuffin/SpaceshipGenerator',\n",
       "  'https://github.com/nerfstudio-project/nerfstudio',\n",
       "  'https://github.com/domlysz/BlenderGIS',\n",
       "  'https://github.com/FyroxEngine/Fyrox',\n",
       "  'https://github.com/google/model-viewer',\n",
       "  'https://github.com/openscad/openscad']}"
      ]
     },
     "execution_count": 50,
     "metadata": {},
     "output_type": "execute_result"
    }
   ],
   "source": [
    "topic_repos_dict = {\n",
    "    'username' : [],\n",
    "    'repo_name' : [],\n",
    "    'stars' : [],\n",
    "    'repo_url' : []\n",
    "}\n",
    "\n",
    "for i in range(len(repo_tags)):\n",
    "    repo_info = get_repo_info(repo_tags[i], star_tags[i])\n",
    "    topic_repos_dict['username'].append(repo_info[0])\n",
    "    topic_repos_dict['repo_name'].append(repo_info[1])\n",
    "    topic_repos_dict['stars'].append(repo_info[2])\n",
    "    topic_repos_dict['repo_url'].append(repo_info[3])\n",
    "    \n",
    "topic_repos_dict"
   ]
  },
  {
   "cell_type": "code",
   "execution_count": null,
   "id": "26f9f23c",
   "metadata": {},
   "outputs": [],
   "source": []
  },
  {
   "cell_type": "code",
   "execution_count": 51,
   "id": "e2e4389c",
   "metadata": {},
   "outputs": [
    {
     "data": {
      "text/html": [
       "<div>\n",
       "<style scoped>\n",
       "    .dataframe tbody tr th:only-of-type {\n",
       "        vertical-align: middle;\n",
       "    }\n",
       "\n",
       "    .dataframe tbody tr th {\n",
       "        vertical-align: top;\n",
       "    }\n",
       "\n",
       "    .dataframe thead th {\n",
       "        text-align: right;\n",
       "    }\n",
       "</style>\n",
       "<table border=\"1\" class=\"dataframe\">\n",
       "  <thead>\n",
       "    <tr style=\"text-align: right;\">\n",
       "      <th></th>\n",
       "      <th>username</th>\n",
       "      <th>repo_name</th>\n",
       "      <th>stars</th>\n",
       "      <th>repo_url</th>\n",
       "    </tr>\n",
       "  </thead>\n",
       "  <tbody>\n",
       "    <tr>\n",
       "      <th>0</th>\n",
       "      <td>mrdoob</td>\n",
       "      <td>three.js</td>\n",
       "      <td>95200</td>\n",
       "      <td>https://github.com/mrdoob/three.js</td>\n",
       "    </tr>\n",
       "    <tr>\n",
       "      <th>1</th>\n",
       "      <td>pmndrs</td>\n",
       "      <td>react-three-fiber</td>\n",
       "      <td>24100</td>\n",
       "      <td>https://github.com/pmndrs/react-three-fiber</td>\n",
       "    </tr>\n",
       "    <tr>\n",
       "      <th>2</th>\n",
       "      <td>libgdx</td>\n",
       "      <td>libgdx</td>\n",
       "      <td>22100</td>\n",
       "      <td>https://github.com/libgdx/libgdx</td>\n",
       "    </tr>\n",
       "    <tr>\n",
       "      <th>3</th>\n",
       "      <td>BabylonJS</td>\n",
       "      <td>Babylon.js</td>\n",
       "      <td>21500</td>\n",
       "      <td>https://github.com/BabylonJS/Babylon.js</td>\n",
       "    </tr>\n",
       "    <tr>\n",
       "      <th>4</th>\n",
       "      <td>ssloy</td>\n",
       "      <td>tinyrenderer</td>\n",
       "      <td>18100</td>\n",
       "      <td>https://github.com/ssloy/tinyrenderer</td>\n",
       "    </tr>\n",
       "  </tbody>\n",
       "</table>\n",
       "</div>"
      ],
      "text/plain": [
       "    username          repo_name  stars  \\\n",
       "0     mrdoob           three.js  95200   \n",
       "1     pmndrs  react-three-fiber  24100   \n",
       "2     libgdx             libgdx  22100   \n",
       "3  BabylonJS         Babylon.js  21500   \n",
       "4      ssloy       tinyrenderer  18100   \n",
       "\n",
       "                                      repo_url  \n",
       "0           https://github.com/mrdoob/three.js  \n",
       "1  https://github.com/pmndrs/react-three-fiber  \n",
       "2             https://github.com/libgdx/libgdx  \n",
       "3      https://github.com/BabylonJS/Babylon.js  \n",
       "4        https://github.com/ssloy/tinyrenderer  "
      ]
     },
     "execution_count": 51,
     "metadata": {},
     "output_type": "execute_result"
    }
   ],
   "source": [
    "# converting in dataframe\n",
    "\n",
    "topic_repos_df = pd.DataFrame(topic_repos_dict)\n",
    "\n",
    "topic_repos_df[:5]"
   ]
  },
  {
   "cell_type": "code",
   "execution_count": null,
   "id": "bf1f5a66",
   "metadata": {},
   "outputs": [],
   "source": []
  },
  {
   "cell_type": "markdown",
   "id": "d394ac59",
   "metadata": {},
   "source": [
    "# Final Code"
   ]
  },
  {
   "cell_type": "code",
   "execution_count": 173,
   "id": "9a01c398",
   "metadata": {},
   "outputs": [],
   "source": [
    "# defining a function for all repo\n",
    "\n",
    "import os\n",
    "\n",
    "# 1. Get Topic Page with Topic URL\n",
    "\n",
    "def get_topic_page(topic_url):\n",
    "     # downlaod the page\n",
    "    response = requests.get(topic_url)\n",
    "    \n",
    "    # check successful response\n",
    "    if response.status_code != 200:\n",
    "        raise Exception('Failed to load page {}'.format(topic_url))\n",
    "    \n",
    "    # parse using BeautifulSoup\n",
    "    topic_doc = BeautifulSoup(response.text, 'html.parser')\n",
    "    \n",
    "    return topic_doc\n",
    "\n",
    "# 2. Get Repo Info\n",
    "\n",
    "def get_repo_info(h3_tag, star_tag):\n",
    "    \n",
    "    # returns all the reqd info about a repository\n",
    "    \n",
    "    a_tags = h3_tag.find_all('a')\n",
    "    username = a_tags[0].text.strip()\n",
    "    repo_name = a_tags[1].text.strip()\n",
    "    repo_url = base_url + a_tags[1]['href']\n",
    "    stars = parse_star_count(star_tag.text.strip())\n",
    "    \n",
    "    return username, repo_name, stars, repo_url\n",
    "\n",
    "# 3. Get Topic Info\n",
    "\n",
    "def get_topic_repos(topic_doc):\n",
    "    \n",
    "    # get repo tags\n",
    "    h3_selection_class = \"f3 color-fg-muted text-normal lh-condensed\"\n",
    "    repo_tags = topic_doc('h3', {'class': h3_selection_class})\n",
    "    \n",
    "    # get star tags\n",
    "    star_tags = topic_doc.find_all('span', {'class' : 'Counter js-social-count'})\n",
    "    \n",
    "    # get repo info\n",
    "    topic_repos_dict = {\n",
    "        'username' : [],\n",
    "        'repo_name' : [],\n",
    "        'stars' : [],\n",
    "        'repo_url' : []\n",
    "    }\n",
    "    \n",
    "    for i in range(len(repo_tags)):\n",
    "        repo_info = get_repo_info(repo_tags[i], star_tags[i])\n",
    "        topic_repos_dict['username'].append(repo_info[0])\n",
    "        topic_repos_dict['repo_name'].append(repo_info[1])\n",
    "        topic_repos_dict['stars'].append(repo_info[2])\n",
    "        topic_repos_dict['repo_url'].append(repo_info[3])\n",
    "        \n",
    "    return pd.DataFrame (topic_repos_dict)\n",
    "\n",
    "# 4. Save the scraped topic info\n",
    "\n",
    "def scrape_topic(path, topic_url):\n",
    "    \n",
    "    # checking if the file name exists    \n",
    "    if os.path.exists(path):\n",
    "        print(\"The file {} already exist. skipping...\".format(path))\n",
    "        return\n",
    "    \n",
    "    topic_df = get_topic_repos(get_topic_page(topic_url))\n",
    "    topic_df.to_csv(path, index=None)"
   ]
  },
  {
   "cell_type": "code",
   "execution_count": null,
   "id": "10167ffb",
   "metadata": {},
   "outputs": [],
   "source": []
  },
  {
   "cell_type": "code",
   "execution_count": 174,
   "id": "9eb9c02e",
   "metadata": {},
   "outputs": [],
   "source": [
    "# assembling the above codes together and saving it to csv\n",
    "\n",
    "get_topic_repos(get_topic_page(topic_urls[4])).to_csv('topics-android.csv', index=None)"
   ]
  },
  {
   "cell_type": "code",
   "execution_count": null,
   "id": "7abb9e64",
   "metadata": {},
   "outputs": [],
   "source": []
  },
  {
   "cell_type": "markdown",
   "id": "8d5e6f25",
   "metadata": {},
   "source": [
    "### Putting it all together\n",
    "\n",
    "- We have a funciton to get the list of topics\n",
    "- We have a function to create a CSV file for scraped repos from a topics page\n",
    "- Let's create a function to put them together"
   ]
  },
  {
   "cell_type": "code",
   "execution_count": 175,
   "id": "69be8ef2",
   "metadata": {},
   "outputs": [],
   "source": [
    "# 1 List of Topics (Title, Description, URL)\n",
    "\n",
    "def get_topic_titles(doc):\n",
    "   \n",
    "    # title tags\n",
    "    selection_class = \"f3 lh-condensed mb-0 mt-1 Link--primary\"\n",
    "    topic_title_tags = doc.find_all('p', {'class' : selection_class})\n",
    "    \n",
    "    # parsing topic names\n",
    "    topic_titles = []\n",
    "\n",
    "    for tag in topic_title_tags:\n",
    "        topic_titles.append(tag.text)\n",
    "        \n",
    "    return topic_titles\n",
    "\n",
    "def get_topic_descs(doc):\n",
    "    \n",
    "    # desc tags\n",
    "    desc_selector = \"f5 color-fg-muted mb-0 mt-1\"\n",
    "    topic_desc_tags = doc.find_all('p', {'class' : desc_selector})\n",
    "    \n",
    "    # parsing descriptions\n",
    "    topic_descs = []\n",
    "    \n",
    "    for tag in topic_desc_tags:\n",
    "        topic_descs.append(tag.text.strip())\n",
    "\n",
    "    return topic_descs\n",
    "\n",
    "def get_topic_urls(doc):\n",
    "    \n",
    "    # topic link tags\n",
    "    url_selector = \"no-underline flex-1 d-flex flex-column\"\n",
    "    topic_link_tags = doc.find_all('a', {'class': url_selector})\n",
    "    \n",
    "    # parsing topic urls\n",
    "    topic_urls = []\n",
    "    base_url = \"https://github.com\"\n",
    "    \n",
    "    for tag in topic_link_tags:\n",
    "        topic_urls.append(base_url + tag['href'])\n",
    "        \n",
    "    return topic_urls\n",
    "\n",
    "def scrape_topics():\n",
    "    \n",
    "    topics_url = 'https://github.com/topics'\n",
    "    response = requests.get(topics_url)\n",
    "        \n",
    "    if response.status_code != 200:\n",
    "        raise Exception('Failed to load page {}'.format(topic_url))\n",
    "            \n",
    "    topics_dict = {\n",
    "        'title': get_topic_titles(doc),\n",
    "        'description': get_topic_descs(doc),\n",
    "        'url': get_topic_urls(doc)\n",
    "    }\n",
    "        \n",
    "    return pd.DataFrame(topics_dict)"
   ]
  },
  {
   "cell_type": "code",
   "execution_count": null,
   "id": "7be92180",
   "metadata": {},
   "outputs": [],
   "source": []
  },
  {
   "cell_type": "code",
   "execution_count": 176,
   "id": "bfe3dc8f",
   "metadata": {},
   "outputs": [
    {
     "data": {
      "text/html": [
       "<div>\n",
       "<style scoped>\n",
       "    .dataframe tbody tr th:only-of-type {\n",
       "        vertical-align: middle;\n",
       "    }\n",
       "\n",
       "    .dataframe tbody tr th {\n",
       "        vertical-align: top;\n",
       "    }\n",
       "\n",
       "    .dataframe thead th {\n",
       "        text-align: right;\n",
       "    }\n",
       "</style>\n",
       "<table border=\"1\" class=\"dataframe\">\n",
       "  <thead>\n",
       "    <tr style=\"text-align: right;\">\n",
       "      <th></th>\n",
       "      <th>title</th>\n",
       "      <th>description</th>\n",
       "      <th>url</th>\n",
       "    </tr>\n",
       "  </thead>\n",
       "  <tbody>\n",
       "    <tr>\n",
       "      <th>0</th>\n",
       "      <td>3D</td>\n",
       "      <td>3D refers to the use of three-dimensional grap...</td>\n",
       "      <td>https://github.com/topics/3d</td>\n",
       "    </tr>\n",
       "    <tr>\n",
       "      <th>1</th>\n",
       "      <td>Ajax</td>\n",
       "      <td>Ajax is a technique for creating interactive w...</td>\n",
       "      <td>https://github.com/topics/ajax</td>\n",
       "    </tr>\n",
       "    <tr>\n",
       "      <th>2</th>\n",
       "      <td>Algorithm</td>\n",
       "      <td>Algorithms are self-contained sequences that c...</td>\n",
       "      <td>https://github.com/topics/algorithm</td>\n",
       "    </tr>\n",
       "    <tr>\n",
       "      <th>3</th>\n",
       "      <td>Amp</td>\n",
       "      <td>Amp is a non-blocking concurrency library for ...</td>\n",
       "      <td>https://github.com/topics/amphp</td>\n",
       "    </tr>\n",
       "    <tr>\n",
       "      <th>4</th>\n",
       "      <td>Android</td>\n",
       "      <td>Android is an operating system built by Google...</td>\n",
       "      <td>https://github.com/topics/android</td>\n",
       "    </tr>\n",
       "  </tbody>\n",
       "</table>\n",
       "</div>"
      ],
      "text/plain": [
       "       title                                        description  \\\n",
       "0         3D  3D refers to the use of three-dimensional grap...   \n",
       "1       Ajax  Ajax is a technique for creating interactive w...   \n",
       "2  Algorithm  Algorithms are self-contained sequences that c...   \n",
       "3        Amp  Amp is a non-blocking concurrency library for ...   \n",
       "4    Android  Android is an operating system built by Google...   \n",
       "\n",
       "                                   url  \n",
       "0         https://github.com/topics/3d  \n",
       "1       https://github.com/topics/ajax  \n",
       "2  https://github.com/topics/algorithm  \n",
       "3      https://github.com/topics/amphp  \n",
       "4    https://github.com/topics/android  "
      ]
     },
     "execution_count": 176,
     "metadata": {},
     "output_type": "execute_result"
    }
   ],
   "source": [
    "scrape_topics().head()"
   ]
  },
  {
   "cell_type": "code",
   "execution_count": null,
   "id": "caf8fdcd",
   "metadata": {},
   "outputs": [],
   "source": []
  },
  {
   "cell_type": "code",
   "execution_count": 177,
   "id": "1d510aea",
   "metadata": {},
   "outputs": [
    {
     "name": "stdout",
     "output_type": "stream",
     "text": [
      "Scraping list of topics\n",
      "Scraping top repos for \"3D\"\n",
      "The file data/3D.csv already exist. skipping...\n",
      "Scraping top repos for \"Ajax\"\n",
      "The file data/Ajax.csv already exist. skipping...\n",
      "Scraping top repos for \"Algorithm\"\n",
      "The file data/Algorithm.csv already exist. skipping...\n",
      "Scraping top repos for \"Amp\"\n",
      "The file data/Amp.csv already exist. skipping...\n",
      "Scraping top repos for \"Android\"\n",
      "The file data/Android.csv already exist. skipping...\n",
      "Scraping top repos for \"Angular\"\n",
      "The file data/Angular.csv already exist. skipping...\n",
      "Scraping top repos for \"Ansible\"\n",
      "The file data/Ansible.csv already exist. skipping...\n",
      "Scraping top repos for \"API\"\n",
      "The file data/API.csv already exist. skipping...\n",
      "Scraping top repos for \"Arduino\"\n",
      "The file data/Arduino.csv already exist. skipping...\n",
      "Scraping top repos for \"ASP.NET\"\n",
      "The file data/ASP.NET.csv already exist. skipping...\n",
      "Scraping top repos for \"Atom\"\n",
      "The file data/Atom.csv already exist. skipping...\n",
      "Scraping top repos for \"Awesome Lists\"\n",
      "The file data/Awesome Lists.csv already exist. skipping...\n",
      "Scraping top repos for \"Amazon Web Services\"\n",
      "The file data/Amazon Web Services.csv already exist. skipping...\n",
      "Scraping top repos for \"Azure\"\n",
      "The file data/Azure.csv already exist. skipping...\n",
      "Scraping top repos for \"Babel\"\n",
      "The file data/Babel.csv already exist. skipping...\n",
      "Scraping top repos for \"Bash\"\n",
      "The file data/Bash.csv already exist. skipping...\n",
      "Scraping top repos for \"Bitcoin\"\n",
      "The file data/Bitcoin.csv already exist. skipping...\n",
      "Scraping top repos for \"Bootstrap\"\n",
      "The file data/Bootstrap.csv already exist. skipping...\n",
      "Scraping top repos for \"Bot\"\n",
      "The file data/Bot.csv already exist. skipping...\n",
      "Scraping top repos for \"C\"\n",
      "The file data/C.csv already exist. skipping...\n",
      "Scraping top repos for \"Chrome\"\n",
      "The file data/Chrome.csv already exist. skipping...\n",
      "Scraping top repos for \"Chrome extension\"\n",
      "The file data/Chrome extension.csv already exist. skipping...\n",
      "Scraping top repos for \"Command line interface\"\n",
      "The file data/Command line interface.csv already exist. skipping...\n",
      "Scraping top repos for \"Clojure\"\n",
      "The file data/Clojure.csv already exist. skipping...\n",
      "Scraping top repos for \"Code quality\"\n",
      "The file data/Code quality.csv already exist. skipping...\n",
      "Scraping top repos for \"Code review\"\n",
      "The file data/Code review.csv already exist. skipping...\n",
      "Scraping top repos for \"Compiler\"\n",
      "The file data/Compiler.csv already exist. skipping...\n",
      "Scraping top repos for \"Continuous integration\"\n",
      "The file data/Continuous integration.csv already exist. skipping...\n",
      "Scraping top repos for \"COVID-19\"\n",
      "The file data/COVID-19.csv already exist. skipping...\n",
      "Scraping top repos for \"C++\"\n",
      "The file data/C++.csv already exist. skipping...\n"
     ]
    }
   ],
   "source": [
    "# 2. List of Repos in the Topics\n",
    "\n",
    "def scrape_topics_repos():\n",
    "    print('Scraping list of topics')\n",
    "    topics_df = scrape_topics()\n",
    "    \n",
    "    # make a folder and add all the scraped info of repos inside it\n",
    "    \n",
    "    os.makedirs('data', exist_ok=True)\n",
    "    \n",
    "    \n",
    "    # to iterate over each row of topic title \n",
    "    for index, row in topics_df.iterrows():\n",
    "        print('Scraping top repos for \"{}\"'.format(row['title']))\n",
    "        scrape_topic('data/{}.csv'.format(row['title']), row['url'])\n",
    "        \n",
    "scrape_topics_repos()"
   ]
  }
 ],
 "metadata": {
  "kernelspec": {
   "display_name": "Python 3 (ipykernel)",
   "language": "python",
   "name": "python3"
  },
  "language_info": {
   "codemirror_mode": {
    "name": "ipython",
    "version": 3
   },
   "file_extension": ".py",
   "mimetype": "text/x-python",
   "name": "python",
   "nbconvert_exporter": "python",
   "pygments_lexer": "ipython3",
   "version": "3.11.3"
  }
 },
 "nbformat": 4,
 "nbformat_minor": 5
}
